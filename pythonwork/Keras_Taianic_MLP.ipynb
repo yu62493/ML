{
 "cells": [
  {
   "cell_type": "code",
   "execution_count": 70,
   "metadata": {
    "collapsed": true
   },
   "outputs": [],
   "source": [
    "import numpy\n",
    "import pandas as pd\n",
    "from sklearn import preprocessing\n",
    "numpy.random.seed(10)"
   ]
  },
  {
   "cell_type": "code",
   "execution_count": 71,
   "metadata": {
    "collapsed": true
   },
   "outputs": [],
   "source": [
    "all_df = pd.read_excel(\"data/titanic3.xls\")"
   ]
  },
  {
   "cell_type": "code",
   "execution_count": 72,
   "metadata": {
    "collapsed": true
   },
   "outputs": [],
   "source": [
    "cols=['survived','name','pclass','sex','age','sibsp',\n",
    "     'parch','fare','embarked']\n",
    "all_df = all_df[cols]"
   ]
  },
  {
   "cell_type": "code",
   "execution_count": 73,
   "metadata": {
    "collapsed": true
   },
   "outputs": [],
   "source": [
    "msk = numpy.random.rand(len(all_df)) < 0.8\n",
    "train_df = all_df[msk]\n",
    "test_df = all_df[~msk]"
   ]
  },
  {
   "cell_type": "code",
   "execution_count": 74,
   "metadata": {},
   "outputs": [
    {
     "name": "stdout",
     "output_type": "stream",
     "text": [
      "total: 1309 train: 1034 test: 275\n"
     ]
    }
   ],
   "source": [
    "print('total:',len(all_df),\n",
    "     'train:',len(train_df),\n",
    "     'test:',len(test_df))"
   ]
  },
  {
   "cell_type": "code",
   "execution_count": 75,
   "metadata": {
    "collapsed": true
   },
   "outputs": [],
   "source": [
    "def PreprocessData(raw_df):\n",
    "    df = raw_df.drop(['name'], axis=1)\n",
    "    age_mean = df['age'].mean()\n",
    "    df['age'] = df['age'].fillna(age_mean)\n",
    "    fare_mean = df['fare'].mean()\n",
    "    df['fare'] = df['fare'].fillna(fare_mean)\n",
    "    df['sex'] = df['sex'].map({'female':0, 'male':1}).astype(int)\n",
    "    x_OneHot_df = pd.get_dummies(data=df,columns=[\"embarked\"])\n",
    "    \n",
    "    ndarray = x_OneHot_df.values\n",
    "    Features = ndarray[:,1:]\n",
    "    Label = ndarray[:,0]\n",
    "    \n",
    "    minmax_scale = preprocessing.MinMaxScaler(feature_range=(0,1))\n",
    "    scaledFeatures = minmax_scale.fit_transform(Features)\n",
    "    \n",
    "    return scaledFeatures,Label"
   ]
  },
  {
   "cell_type": "code",
   "execution_count": 76,
   "metadata": {
    "collapsed": true
   },
   "outputs": [],
   "source": [
    "train_Features,train_Label= PreprocessData(train_df)\n",
    "test_Features,test_Label = PreprocessData(test_df)"
   ]
  },
  {
   "cell_type": "code",
   "execution_count": 77,
   "metadata": {},
   "outputs": [],
   "source": [
    "from keras.models import Sequential\n",
    "from keras.layers import Dense,Dropout"
   ]
  },
  {
   "cell_type": "code",
   "execution_count": 78,
   "metadata": {
    "collapsed": true
   },
   "outputs": [],
   "source": [
    "model = Sequential()"
   ]
  },
  {
   "cell_type": "code",
   "execution_count": 79,
   "metadata": {
    "collapsed": true
   },
   "outputs": [],
   "source": [
    "model.add(Dense(units=40, input_dim=9,\n",
    "               kernel_initializer='uniform',\n",
    "               activation='relu'))"
   ]
  },
  {
   "cell_type": "code",
   "execution_count": 80,
   "metadata": {
    "collapsed": true
   },
   "outputs": [],
   "source": [
    "model.add(Dense(units=30,\n",
    "               kernel_initializer='uniform',\n",
    "               activation='relu'))"
   ]
  },
  {
   "cell_type": "code",
   "execution_count": 81,
   "metadata": {},
   "outputs": [],
   "source": [
    "model.add(Dense(units=1,\n",
    "               kernel_initializer='uniform',\n",
    "               activation='sigmoid'))"
   ]
  },
  {
   "cell_type": "code",
   "execution_count": 82,
   "metadata": {
    "collapsed": true
   },
   "outputs": [],
   "source": [
    "model.compile(loss='binary_crossentropy',\n",
    "             optimizer='adam',metrics=['accuracy'])"
   ]
  },
  {
   "cell_type": "code",
   "execution_count": 83,
   "metadata": {},
   "outputs": [
    {
     "name": "stdout",
     "output_type": "stream",
     "text": [
      "Train on 930 samples, validate on 104 samples\n",
      "Epoch 1/30\n",
      " - 1s - loss: 0.6900 - acc: 0.5774 - val_loss: 0.6704 - val_acc: 0.7885\n",
      "Epoch 2/30\n",
      " - 0s - loss: 0.6672 - acc: 0.5968 - val_loss: 0.5892 - val_acc: 0.7885\n",
      "Epoch 3/30\n",
      " - 0s - loss: 0.6100 - acc: 0.6667 - val_loss: 0.4942 - val_acc: 0.8173\n",
      "Epoch 4/30\n",
      " - 0s - loss: 0.5476 - acc: 0.7634 - val_loss: 0.4624 - val_acc: 0.7596\n",
      "Epoch 5/30\n",
      " - 0s - loss: 0.5084 - acc: 0.7602 - val_loss: 0.4558 - val_acc: 0.7885\n",
      "Epoch 6/30\n",
      " - 0s - loss: 0.4924 - acc: 0.7667 - val_loss: 0.4418 - val_acc: 0.7885\n",
      "Epoch 7/30\n",
      " - 0s - loss: 0.4837 - acc: 0.7613 - val_loss: 0.4432 - val_acc: 0.7885\n",
      "Epoch 8/30\n",
      " - 0s - loss: 0.4799 - acc: 0.7581 - val_loss: 0.4370 - val_acc: 0.7885\n",
      "Epoch 9/30\n",
      " - 0s - loss: 0.4744 - acc: 0.7602 - val_loss: 0.4303 - val_acc: 0.7885\n",
      "Epoch 10/30\n",
      " - 0s - loss: 0.4708 - acc: 0.7763 - val_loss: 0.4280 - val_acc: 0.7788\n",
      "Epoch 11/30\n",
      " - 0s - loss: 0.4666 - acc: 0.7602 - val_loss: 0.4257 - val_acc: 0.7981\n",
      "Epoch 12/30\n",
      " - 0s - loss: 0.4648 - acc: 0.7753 - val_loss: 0.4221 - val_acc: 0.8269\n",
      "Epoch 13/30\n",
      " - 0s - loss: 0.4632 - acc: 0.7796 - val_loss: 0.4214 - val_acc: 0.8365\n",
      "Epoch 14/30\n",
      " - 0s - loss: 0.4616 - acc: 0.7774 - val_loss: 0.4224 - val_acc: 0.8365\n",
      "Epoch 15/30\n",
      " - 0s - loss: 0.4636 - acc: 0.7817 - val_loss: 0.4240 - val_acc: 0.7981\n",
      "Epoch 16/30\n",
      " - 0s - loss: 0.4573 - acc: 0.7774 - val_loss: 0.4194 - val_acc: 0.8365\n",
      "Epoch 17/30\n",
      " - 0s - loss: 0.4560 - acc: 0.7892 - val_loss: 0.4199 - val_acc: 0.8365\n",
      "Epoch 18/30\n",
      " - 0s - loss: 0.4553 - acc: 0.7882 - val_loss: 0.4153 - val_acc: 0.7981\n",
      "Epoch 19/30\n",
      " - 0s - loss: 0.4546 - acc: 0.7946 - val_loss: 0.4248 - val_acc: 0.7981\n",
      "Epoch 20/30\n",
      " - 0s - loss: 0.4519 - acc: 0.7892 - val_loss: 0.4158 - val_acc: 0.8173\n",
      "Epoch 21/30\n",
      " - 0s - loss: 0.4518 - acc: 0.7946 - val_loss: 0.4165 - val_acc: 0.8269\n",
      "Epoch 22/30\n",
      " - 0s - loss: 0.4506 - acc: 0.7978 - val_loss: 0.4169 - val_acc: 0.8269\n",
      "Epoch 23/30\n",
      " - 0s - loss: 0.4535 - acc: 0.7871 - val_loss: 0.4179 - val_acc: 0.8269\n",
      "Epoch 24/30\n",
      " - 0s - loss: 0.4500 - acc: 0.7871 - val_loss: 0.4201 - val_acc: 0.8269\n",
      "Epoch 25/30\n",
      " - 0s - loss: 0.4505 - acc: 0.7903 - val_loss: 0.4231 - val_acc: 0.8269\n",
      "Epoch 26/30\n",
      " - 0s - loss: 0.4512 - acc: 0.7968 - val_loss: 0.4215 - val_acc: 0.8269\n",
      "Epoch 27/30\n",
      " - 0s - loss: 0.4473 - acc: 0.7935 - val_loss: 0.4177 - val_acc: 0.8077\n",
      "Epoch 28/30\n",
      " - 0s - loss: 0.4511 - acc: 0.7828 - val_loss: 0.4165 - val_acc: 0.8077\n",
      "Epoch 29/30\n",
      " - 0s - loss: 0.4473 - acc: 0.7935 - val_loss: 0.4212 - val_acc: 0.8269\n",
      "Epoch 30/30\n",
      " - 0s - loss: 0.4534 - acc: 0.7903 - val_loss: 0.4199 - val_acc: 0.8269\n"
     ]
    }
   ],
   "source": [
    "train_history=model.fit(x=train_Features,\n",
    "                       y=train_Label,\n",
    "                       validation_split=0.1,\n",
    "                       epochs=30,\n",
    "                       batch_size=30,verbose=2)"
   ]
  },
  {
   "cell_type": "code",
   "execution_count": 84,
   "metadata": {
    "collapsed": true
   },
   "outputs": [],
   "source": [
    "import matplotlib.pyplot as plt\n",
    "def show_train_history(train_history,train,validation):\n",
    "    plt.plot(train_history.history[train])\n",
    "    plt.plot(train_history.history[validation])\n",
    "    plt.title('Train History')\n",
    "    plt.ylabel(train)\n",
    "    plt.xlabel('Epoch')\n",
    "    plt.legend(['train', 'validation'], loc='upper left')\n",
    "    plt.show()"
   ]
  },
  {
   "cell_type": "code",
   "execution_count": 85,
   "metadata": {},
   "outputs": [
    {
     "data": {
      "image/png": "[encoded data removed]",
      "text/plain": [
       "<matplotlib.figure.Figure at 0x1f51f6ab9e8>"
      ]
     },
     "metadata": {},
     "output_type": "display_data"
    }
   ],
   "source": [
    "show_train_history(train_history,'acc','val_acc')"
   ]
  },
  {
   "cell_type": "code",
   "execution_count": 86,
   "metadata": {},
   "outputs": [
    {
     "data": {
      "image/png": "[encoded data removed]",
      "text/plain": [
       "<matplotlib.figure.Figure at 0x1f51e296ac8>"
      ]
     },
     "metadata": {},
     "output_type": "display_data"
    }
   ],
   "source": [
    "show_train_history(train_history,'loss','val_loss')"
   ]
  },
  {
   "cell_type": "code",
   "execution_count": 87,
   "metadata": {},
   "outputs": [
    {
     "name": "stdout",
     "output_type": "stream",
     "text": [
      "275/275 [==============================] - 0s 58us/step\n"
     ]
    }
   ],
   "source": [
    "scores=model.evaluate(x=test_Features,\n",
    "                     y=test_Label)"
   ]
  },
  {
   "cell_type": "code",
   "execution_count": 88,
   "metadata": {},
   "outputs": [
    {
     "data": {
      "text/plain": [
       "0.80727272770621561"
      ]
     },
     "execution_count": 88,
     "metadata": {},
     "output_type": "execute_result"
    }
   ],
   "source": [
    "scores[1]"
   ]
  },
  {
   "cell_type": "code",
   "execution_count": 89,
   "metadata": {
    "collapsed": true
   },
   "outputs": [],
   "source": [
    "Jack = pd.Series([0, 'Jack',3,'male', 23,1,0,5.0000,'S'])\n",
    "Rose = pd.Series([1, 'Rose',1,'female',20,1,0,100.0000,'S'])"
   ]
  },
  {
   "cell_type": "code",
   "execution_count": 90,
   "metadata": {
    "collapsed": true
   },
   "outputs": [],
   "source": [
    "JR_df = pd.DataFrame([list(Jack),list(Rose)],\n",
    "                    columns=['survived', 'name', 'pclass', 'sex',\n",
    "                            'age', 'sibsp', 'parch', 'fare', 'embarked'])"
   ]
  },
  {
   "cell_type": "code",
   "execution_count": 91,
   "metadata": {
    "collapsed": true
   },
   "outputs": [],
   "source": [
    "all_df = pd.concat([all_df,JR_df])"
   ]
  },
  {
   "cell_type": "code",
   "execution_count": 92,
   "metadata": {},
   "outputs": [
    {
     "data": {
      "text/html": [
       "<div>\n",
       "<style>\n",
       "    .dataframe thead tr:only-child th {\n",
       "        text-align: right;\n",
       "    }\n",
       "\n",
       "    .dataframe thead th {\n",
       "        text-align: left;\n",
       "    }\n",
       "\n",
       "    .dataframe tbody tr th {\n",
       "        vertical-align: top;\n",
       "    }\n",
       "</style>\n",
       "<table border=\"1\" class=\"dataframe\">\n",
       "  <thead>\n",
       "    <tr style=\"text-align: right;\">\n",
       "      <th></th>\n",
       "      <th>survived</th>\n",
       "      <th>name</th>\n",
       "      <th>pclass</th>\n",
       "      <th>sex</th>\n",
       "      <th>age</th>\n",
       "      <th>sibsp</th>\n",
       "      <th>parch</th>\n",
       "      <th>fare</th>\n",
       "      <th>embarked</th>\n",
       "    </tr>\n",
       "  </thead>\n",
       "  <tbody>\n",
       "    <tr>\n",
       "      <th>0</th>\n",
       "      <td>0</td>\n",
       "      <td>Jack</td>\n",
       "      <td>3</td>\n",
       "      <td>male</td>\n",
       "      <td>23.0</td>\n",
       "      <td>1</td>\n",
       "      <td>0</td>\n",
       "      <td>5.0</td>\n",
       "      <td>S</td>\n",
       "    </tr>\n",
       "    <tr>\n",
       "      <th>1</th>\n",
       "      <td>1</td>\n",
       "      <td>Rose</td>\n",
       "      <td>1</td>\n",
       "      <td>female</td>\n",
       "      <td>20.0</td>\n",
       "      <td>1</td>\n",
       "      <td>0</td>\n",
       "      <td>100.0</td>\n",
       "      <td>S</td>\n",
       "    </tr>\n",
       "  </tbody>\n",
       "</table>\n",
       "</div>"
      ],
      "text/plain": [
       "   survived  name  pclass     sex   age  sibsp  parch   fare embarked\n",
       "0         0  Jack       3    male  23.0      1      0    5.0        S\n",
       "1         1  Rose       1  female  20.0      1      0  100.0        S"
      ]
     },
     "execution_count": 92,
     "metadata": {},
     "output_type": "execute_result"
    }
   ],
   "source": [
    "all_df[-2:]"
   ]
  },
  {
   "cell_type": "code",
   "execution_count": 93,
   "metadata": {
    "collapsed": true
   },
   "outputs": [],
   "source": [
    "all_Features,Label=PreprocessData(all_df)"
   ]
  },
  {
   "cell_type": "code",
   "execution_count": 94,
   "metadata": {
    "collapsed": true
   },
   "outputs": [],
   "source": [
    "all_probability=model.predict(all_Features)"
   ]
  },
  {
   "cell_type": "code",
   "execution_count": 95,
   "metadata": {},
   "outputs": [
    {
     "data": {
      "text/plain": [
       "array([[ 0.97643948],\n",
       "       [ 0.59737653],\n",
       "       [ 0.97332847],\n",
       "       [ 0.38693938],\n",
       "       [ 0.97133631],\n",
       "       [ 0.27397493],\n",
       "       [ 0.94542527],\n",
       "       [ 0.32501462],\n",
       "       [ 0.94402915],\n",
       "       [ 0.29647994]], dtype=float32)"
      ]
     },
     "execution_count": 95,
     "metadata": {},
     "output_type": "execute_result"
    }
   ],
   "source": [
    "all_probability[:10]"
   ]
  },
  {
   "cell_type": "code",
   "execution_count": 96,
   "metadata": {
    "collapsed": true
   },
   "outputs": [],
   "source": [
    "pd = all_df\n",
    "pd.insert(len(all_df.columns),\n",
    "         'probability',all_probability)"
   ]
  },
  {
   "cell_type": "code",
   "execution_count": 97,
   "metadata": {},
   "outputs": [
    {
     "data": {
      "text/html": [
       "<div>\n",
       "<style>\n",
       "    .dataframe thead tr:only-child th {\n",
       "        text-align: right;\n",
       "    }\n",
       "\n",
       "    .dataframe thead th {\n",
       "        text-align: left;\n",
       "    }\n",
       "\n",
       "    .dataframe tbody tr th {\n",
       "        vertical-align: top;\n",
       "    }\n",
       "</style>\n",
       "<table border=\"1\" class=\"dataframe\">\n",
       "  <thead>\n",
       "    <tr style=\"text-align: right;\">\n",
       "      <th></th>\n",
       "      <th>survived</th>\n",
       "      <th>name</th>\n",
       "      <th>pclass</th>\n",
       "      <th>sex</th>\n",
       "      <th>age</th>\n",
       "      <th>sibsp</th>\n",
       "      <th>parch</th>\n",
       "      <th>fare</th>\n",
       "      <th>embarked</th>\n",
       "      <th>probability</th>\n",
       "    </tr>\n",
       "  </thead>\n",
       "  <tbody>\n",
       "    <tr>\n",
       "      <th>0</th>\n",
       "      <td>0</td>\n",
       "      <td>Jack</td>\n",
       "      <td>3</td>\n",
       "      <td>male</td>\n",
       "      <td>23.0</td>\n",
       "      <td>1</td>\n",
       "      <td>0</td>\n",
       "      <td>5.0</td>\n",
       "      <td>S</td>\n",
       "      <td>0.145264</td>\n",
       "    </tr>\n",
       "    <tr>\n",
       "      <th>1</th>\n",
       "      <td>1</td>\n",
       "      <td>Rose</td>\n",
       "      <td>1</td>\n",
       "      <td>female</td>\n",
       "      <td>20.0</td>\n",
       "      <td>1</td>\n",
       "      <td>0</td>\n",
       "      <td>100.0</td>\n",
       "      <td>S</td>\n",
       "      <td>0.968890</td>\n",
       "    </tr>\n",
       "  </tbody>\n",
       "</table>\n",
       "</div>"
      ],
      "text/plain": [
       "   survived  name  pclass     sex   age  sibsp  parch   fare embarked  \\\n",
       "0         0  Jack       3    male  23.0      1      0    5.0        S   \n",
       "1         1  Rose       1  female  20.0      1      0  100.0        S   \n",
       "\n",
       "   probability  \n",
       "0     0.145264  \n",
       "1     0.968890  "
      ]
     },
     "execution_count": 97,
     "metadata": {},
     "output_type": "execute_result"
    }
   ],
   "source": [
    "pd[-2:]"
   ]
  },
  {
   "cell_type": "code",
   "execution_count": 98,
   "metadata": {},
   "outputs": [
    {
     "data": {
      "text/html": [
       "<div>\n",
       "<style>\n",
       "    .dataframe thead tr:only-child th {\n",
       "        text-align: right;\n",
       "    }\n",
       "\n",
       "    .dataframe thead th {\n",
       "        text-align: left;\n",
       "    }\n",
       "\n",
       "    .dataframe tbody tr th {\n",
       "        vertical-align: top;\n",
       "    }\n",
       "</style>\n",
       "<table border=\"1\" class=\"dataframe\">\n",
       "  <thead>\n",
       "    <tr style=\"text-align: right;\">\n",
       "      <th></th>\n",
       "      <th>survived</th>\n",
       "      <th>name</th>\n",
       "      <th>pclass</th>\n",
       "      <th>sex</th>\n",
       "      <th>age</th>\n",
       "      <th>sibsp</th>\n",
       "      <th>parch</th>\n",
       "      <th>fare</th>\n",
       "      <th>embarked</th>\n",
       "      <th>probability</th>\n",
       "    </tr>\n",
       "  </thead>\n",
       "  <tbody>\n",
       "    <tr>\n",
       "      <th>2</th>\n",
       "      <td>0</td>\n",
       "      <td>Allison, Miss. Helen Loraine</td>\n",
       "      <td>1</td>\n",
       "      <td>female</td>\n",
       "      <td>2.0</td>\n",
       "      <td>1</td>\n",
       "      <td>2</td>\n",
       "      <td>151.5500</td>\n",
       "      <td>S</td>\n",
       "      <td>0.973328</td>\n",
       "    </tr>\n",
       "    <tr>\n",
       "      <th>4</th>\n",
       "      <td>0</td>\n",
       "      <td>Allison, Mrs. Hudson J C (Bessie Waldo Daniels)</td>\n",
       "      <td>1</td>\n",
       "      <td>female</td>\n",
       "      <td>25.0</td>\n",
       "      <td>1</td>\n",
       "      <td>2</td>\n",
       "      <td>151.5500</td>\n",
       "      <td>S</td>\n",
       "      <td>0.971336</td>\n",
       "    </tr>\n",
       "    <tr>\n",
       "      <th>105</th>\n",
       "      <td>0</td>\n",
       "      <td>Evans, Miss. Edith Corse</td>\n",
       "      <td>1</td>\n",
       "      <td>female</td>\n",
       "      <td>36.0</td>\n",
       "      <td>0</td>\n",
       "      <td>0</td>\n",
       "      <td>31.6792</td>\n",
       "      <td>C</td>\n",
       "      <td>0.978593</td>\n",
       "    </tr>\n",
       "    <tr>\n",
       "      <th>169</th>\n",
       "      <td>0</td>\n",
       "      <td>Isham, Miss. Ann Elizabeth</td>\n",
       "      <td>1</td>\n",
       "      <td>female</td>\n",
       "      <td>50.0</td>\n",
       "      <td>0</td>\n",
       "      <td>0</td>\n",
       "      <td>28.7125</td>\n",
       "      <td>C</td>\n",
       "      <td>0.976266</td>\n",
       "    </tr>\n",
       "    <tr>\n",
       "      <th>286</th>\n",
       "      <td>0</td>\n",
       "      <td>Straus, Mrs. Isidor (Rosalie Ida Blun)</td>\n",
       "      <td>1</td>\n",
       "      <td>female</td>\n",
       "      <td>63.0</td>\n",
       "      <td>1</td>\n",
       "      <td>0</td>\n",
       "      <td>221.7792</td>\n",
       "      <td>S</td>\n",
       "      <td>0.961194</td>\n",
       "    </tr>\n",
       "  </tbody>\n",
       "</table>\n",
       "</div>"
      ],
      "text/plain": [
       "     survived                                             name  pclass  \\\n",
       "2           0                     Allison, Miss. Helen Loraine       1   \n",
       "4           0  Allison, Mrs. Hudson J C (Bessie Waldo Daniels)       1   \n",
       "105         0                         Evans, Miss. Edith Corse       1   \n",
       "169         0                       Isham, Miss. Ann Elizabeth       1   \n",
       "286         0           Straus, Mrs. Isidor (Rosalie Ida Blun)       1   \n",
       "\n",
       "        sex   age  sibsp  parch      fare embarked  probability  \n",
       "2    female   2.0      1      2  151.5500        S     0.973328  \n",
       "4    female  25.0      1      2  151.5500        S     0.971336  \n",
       "105  female  36.0      0      0   31.6792        C     0.978593  \n",
       "169  female  50.0      0      0   28.7125        C     0.976266  \n",
       "286  female  63.0      1      0  221.7792        S     0.961194  "
      ]
     },
     "execution_count": 98,
     "metadata": {},
     "output_type": "execute_result"
    }
   ],
   "source": [
    "pd[(pd['survived']==0) & (pd['probability']>0.9)]"
   ]
  },
  {
   "cell_type": "code",
   "execution_count": 99,
   "metadata": {},
   "outputs": [
    {
     "data": {
      "text/html": [
       "<div>\n",
       "<style>\n",
       "    .dataframe thead tr:only-child th {\n",
       "        text-align: right;\n",
       "    }\n",
       "\n",
       "    .dataframe thead th {\n",
       "        text-align: left;\n",
       "    }\n",
       "\n",
       "    .dataframe tbody tr th {\n",
       "        vertical-align: top;\n",
       "    }\n",
       "</style>\n",
       "<table border=\"1\" class=\"dataframe\">\n",
       "  <thead>\n",
       "    <tr style=\"text-align: right;\">\n",
       "      <th></th>\n",
       "      <th>survived</th>\n",
       "      <th>name</th>\n",
       "      <th>pclass</th>\n",
       "      <th>sex</th>\n",
       "      <th>age</th>\n",
       "      <th>sibsp</th>\n",
       "      <th>parch</th>\n",
       "      <th>fare</th>\n",
       "      <th>embarked</th>\n",
       "      <th>probability</th>\n",
       "    </tr>\n",
       "  </thead>\n",
       "  <tbody>\n",
       "    <tr>\n",
       "      <th>0</th>\n",
       "      <td>1</td>\n",
       "      <td>Allen, Miss. Elisabeth Walton</td>\n",
       "      <td>1</td>\n",
       "      <td>female</td>\n",
       "      <td>29.0000</td>\n",
       "      <td>0</td>\n",
       "      <td>0</td>\n",
       "      <td>211.3375</td>\n",
       "      <td>S</td>\n",
       "      <td>0.976439</td>\n",
       "    </tr>\n",
       "    <tr>\n",
       "      <th>1</th>\n",
       "      <td>1</td>\n",
       "      <td>Allison, Master. Hudson Trevor</td>\n",
       "      <td>1</td>\n",
       "      <td>male</td>\n",
       "      <td>0.9167</td>\n",
       "      <td>1</td>\n",
       "      <td>2</td>\n",
       "      <td>151.5500</td>\n",
       "      <td>S</td>\n",
       "      <td>0.597377</td>\n",
       "    </tr>\n",
       "    <tr>\n",
       "      <th>2</th>\n",
       "      <td>0</td>\n",
       "      <td>Allison, Miss. Helen Loraine</td>\n",
       "      <td>1</td>\n",
       "      <td>female</td>\n",
       "      <td>2.0000</td>\n",
       "      <td>1</td>\n",
       "      <td>2</td>\n",
       "      <td>151.5500</td>\n",
       "      <td>S</td>\n",
       "      <td>0.973328</td>\n",
       "    </tr>\n",
       "    <tr>\n",
       "      <th>3</th>\n",
       "      <td>0</td>\n",
       "      <td>Allison, Mr. Hudson Joshua Creighton</td>\n",
       "      <td>1</td>\n",
       "      <td>male</td>\n",
       "      <td>30.0000</td>\n",
       "      <td>1</td>\n",
       "      <td>2</td>\n",
       "      <td>151.5500</td>\n",
       "      <td>S</td>\n",
       "      <td>0.386939</td>\n",
       "    </tr>\n",
       "    <tr>\n",
       "      <th>4</th>\n",
       "      <td>0</td>\n",
       "      <td>Allison, Mrs. Hudson J C (Bessie Waldo Daniels)</td>\n",
       "      <td>1</td>\n",
       "      <td>female</td>\n",
       "      <td>25.0000</td>\n",
       "      <td>1</td>\n",
       "      <td>2</td>\n",
       "      <td>151.5500</td>\n",
       "      <td>S</td>\n",
       "      <td>0.971336</td>\n",
       "    </tr>\n",
       "  </tbody>\n",
       "</table>\n",
       "</div>"
      ],
      "text/plain": [
       "   survived                                             name  pclass     sex  \\\n",
       "0         1                    Allen, Miss. Elisabeth Walton       1  female   \n",
       "1         1                   Allison, Master. Hudson Trevor       1    male   \n",
       "2         0                     Allison, Miss. Helen Loraine       1  female   \n",
       "3         0             Allison, Mr. Hudson Joshua Creighton       1    male   \n",
       "4         0  Allison, Mrs. Hudson J C (Bessie Waldo Daniels)       1  female   \n",
       "\n",
       "       age  sibsp  parch      fare embarked  probability  \n",
       "0  29.0000      0      0  211.3375        S     0.976439  \n",
       "1   0.9167      1      2  151.5500        S     0.597377  \n",
       "2   2.0000      1      2  151.5500        S     0.973328  \n",
       "3  30.0000      1      2  151.5500        S     0.386939  \n",
       "4  25.0000      1      2  151.5500        S     0.971336  "
      ]
     },
     "execution_count": 99,
     "metadata": {},
     "output_type": "execute_result"
    }
   ],
   "source": [
    "pd[:5]"
   ]
  },
  {
   "cell_type": "code",
   "execution_count": null,
   "metadata": {
    "collapsed": true
   },
   "outputs": [],
   "source": []
  }
 ],
 "metadata": {
  "kernelspec": {
   "display_name": "Python 3",
   "language": "python",
   "name": "python3"
  },
  "language_info": {
   "codemirror_mode": {
    "name": "ipython",
    "version": 3
   },
   "file_extension": ".py",
   "mimetype": "text/x-python",
   "name": "python",
   "nbconvert_exporter": "python",
   "pygments_lexer": "ipython3",
   "version": "3.5.4"
  }
 },
 "nbformat": 4,
 "nbformat_minor": 2
}
